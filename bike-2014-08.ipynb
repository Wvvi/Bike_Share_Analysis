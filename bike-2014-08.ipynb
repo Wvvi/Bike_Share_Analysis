{
 "cells": [
  {
   "cell_type": "code",
   "execution_count": 1,
   "metadata": {
    "collapsed": true
   },
   "outputs": [],
   "source": [
    "import csv\n",
    "from datetime import datetime\n",
    "import numpy as np\n",
    "import pandas as pd \n",
    "%matplotlib inline"
   ]
  },
  {
   "cell_type": "code",
   "execution_count": 2,
   "metadata": {
    "collapsed": true
   },
   "outputs": [],
   "source": [
    "def create_station_mapping(station_data):\n",
    "    station_map={}\n",
    "    for data_file in station_data:\n",
    "        with open(data_file,'r') as f_in:\n",
    "            # 设置 csv 读取对象 - 注意，我们使用的是 DictReader，他会将\n",
    "            # 文档第一行作为表头，即每一行的字典键值\n",
    "            weather_reader=csv.DictReader(f_in)\n",
    "            \n",
    "            for row in weather_reader:\n",
    "                station_map[row['station_id']]=row['landmark']\n",
    "    return station_map"
   ]
  },
  {
   "cell_type": "code",
   "execution_count": 3,
   "metadata": {
    "collapsed": true
   },
   "outputs": [],
   "source": [
    "def summarise_data(trip_in, station_data, trip_out):\n",
    "     # 生成车站字典 - 城市映射\n",
    "    station_map=create_station_mapping(station_data)\n",
    "    \n",
    "    with open(trip_out,'wb') as f_out:\n",
    "        # 设置 csv 写入对象 \n",
    "        out_colnames=['duration','start_date','start_year',\n",
    "                      'start_month','start_hour','weekday',\n",
    "                      'start_city','end_city','start_station','end_station','Bike','subscription_type']\n",
    "        trip_writer=csv.DictWriter(f_out,fieldnames=out_colnames)\n",
    "        trip_writer.writeheader()\n",
    "        \n",
    "        for data_file in trip_in:\n",
    "            with open(data_file,'r') as f_in:\n",
    "                #设置csv读取对象\n",
    "                trip_reader=csv.DictReader(f_in)\n",
    "                # 从每行数据中收集和处理\n",
    "                for row in trip_reader:\n",
    "                    new_point={}\n",
    "                    new_point['duration']=float(row['Duration'])/60\n",
    "                    trip_date=datetime.strptime(row['Start Date'],'%m/%d/%Y %H:%M')\n",
    "                    new_point['start_date'] =trip_date.strftime('%m-%d-%Y')\n",
    "                    new_point['start_year'] =trip_date.strftime('%Y')\n",
    "                    new_point['start_month']=trip_date.strftime('%m')\n",
    "                    new_point['start_hour'] =trip_date.strftime('%H')\n",
    "                    new_point['weekday']    =trip_date.strftime('%A')\n",
    "                    # 基于起始城市重新映射起始站点\n",
    "                    new_point['start_city']=station_map[row['Start Terminal']]\n",
    "                    new_point['end_city']=station_map[row['End Terminal']]\n",
    "                    #bike\n",
    "                    new_point['Bike']=row['Bike #']\n",
    "                    #起-终站\n",
    "                    new_point['start_station']=row['Start Station']\n",
    "                    new_point['end_station']=row['End Station']\n",
    "                    # 定阅者的两个不同列名称\n",
    "                    if 'Subscription Type' in row:\n",
    "                        new_point['subscription_type']=row['Subscription Type']\n",
    "                    else:\n",
    "                        new_point['subscription_type']=row['Subscriber Type']\n",
    "                        \n",
    "                    # 导出处理完成的信息 \n",
    "                    trip_writer.writerow(new_point)\n",
    "                    "
   ]
  },
  {
   "cell_type": "code",
   "execution_count": 4,
   "metadata": {
    "collapsed": false
   },
   "outputs": [
    {
     "data": {
      "text/html": [
       "<div>\n",
       "<table border=\"1\" class=\"dataframe\">\n",
       "  <thead>\n",
       "    <tr style=\"text-align: right;\">\n",
       "      <th></th>\n",
       "      <th>duration</th>\n",
       "      <th>start_date</th>\n",
       "      <th>start_year</th>\n",
       "      <th>start_month</th>\n",
       "      <th>start_hour</th>\n",
       "      <th>weekday</th>\n",
       "      <th>start_city</th>\n",
       "      <th>end_city</th>\n",
       "      <th>start_station</th>\n",
       "      <th>end_station</th>\n",
       "      <th>Bike</th>\n",
       "      <th>subscription_type</th>\n",
       "    </tr>\n",
       "  </thead>\n",
       "  <tbody>\n",
       "    <tr>\n",
       "      <th>0</th>\n",
       "      <td>6.766667</td>\n",
       "      <td>08-31-2014</td>\n",
       "      <td>2014</td>\n",
       "      <td>8</td>\n",
       "      <td>22</td>\n",
       "      <td>Sunday</td>\n",
       "      <td>Mountain View</td>\n",
       "      <td>Mountain View</td>\n",
       "      <td>Mountain View Caltrain Station</td>\n",
       "      <td>Castro Street and El Camino Real</td>\n",
       "      <td>17</td>\n",
       "      <td>Subscriber</td>\n",
       "    </tr>\n",
       "    <tr>\n",
       "      <th>1</th>\n",
       "      <td>7.800000</td>\n",
       "      <td>08-31-2014</td>\n",
       "      <td>2014</td>\n",
       "      <td>8</td>\n",
       "      <td>22</td>\n",
       "      <td>Sunday</td>\n",
       "      <td>San Francisco</td>\n",
       "      <td>San Francisco</td>\n",
       "      <td>Beale at Market</td>\n",
       "      <td>Market at 4th</td>\n",
       "      <td>509</td>\n",
       "      <td>Customer</td>\n",
       "    </tr>\n",
       "    <tr>\n",
       "      <th>2</th>\n",
       "      <td>8.900000</td>\n",
       "      <td>08-31-2014</td>\n",
       "      <td>2014</td>\n",
       "      <td>8</td>\n",
       "      <td>22</td>\n",
       "      <td>Sunday</td>\n",
       "      <td>San Francisco</td>\n",
       "      <td>San Francisco</td>\n",
       "      <td>Beale at Market</td>\n",
       "      <td>Market at 4th</td>\n",
       "      <td>342</td>\n",
       "      <td>Customer</td>\n",
       "    </tr>\n",
       "    <tr>\n",
       "      <th>3</th>\n",
       "      <td>17.350000</td>\n",
       "      <td>08-31-2014</td>\n",
       "      <td>2014</td>\n",
       "      <td>8</td>\n",
       "      <td>21</td>\n",
       "      <td>Sunday</td>\n",
       "      <td>San Francisco</td>\n",
       "      <td>San Francisco</td>\n",
       "      <td>Embarcadero at Sansome</td>\n",
       "      <td>Steuart at Market</td>\n",
       "      <td>603</td>\n",
       "      <td>Customer</td>\n",
       "    </tr>\n",
       "    <tr>\n",
       "      <th>4</th>\n",
       "      <td>18.183333</td>\n",
       "      <td>08-31-2014</td>\n",
       "      <td>2014</td>\n",
       "      <td>8</td>\n",
       "      <td>21</td>\n",
       "      <td>Sunday</td>\n",
       "      <td>San Francisco</td>\n",
       "      <td>San Francisco</td>\n",
       "      <td>Embarcadero at Sansome</td>\n",
       "      <td>Steuart at Market</td>\n",
       "      <td>598</td>\n",
       "      <td>Customer</td>\n",
       "    </tr>\n",
       "  </tbody>\n",
       "</table>\n",
       "</div>"
      ],
      "text/plain": [
       "    duration  start_date  start_year  start_month  start_hour weekday  \\\n",
       "0   6.766667  08-31-2014        2014            8          22  Sunday   \n",
       "1   7.800000  08-31-2014        2014            8          22  Sunday   \n",
       "2   8.900000  08-31-2014        2014            8          22  Sunday   \n",
       "3  17.350000  08-31-2014        2014            8          21  Sunday   \n",
       "4  18.183333  08-31-2014        2014            8          21  Sunday   \n",
       "\n",
       "      start_city       end_city                   start_station  \\\n",
       "0  Mountain View  Mountain View  Mountain View Caltrain Station   \n",
       "1  San Francisco  San Francisco                 Beale at Market   \n",
       "2  San Francisco  San Francisco                 Beale at Market   \n",
       "3  San Francisco  San Francisco          Embarcadero at Sansome   \n",
       "4  San Francisco  San Francisco          Embarcadero at Sansome   \n",
       "\n",
       "                        end_station  Bike subscription_type  \n",
       "0  Castro Street and El Camino Real    17        Subscriber  \n",
       "1                     Market at 4th   509          Customer  \n",
       "2                     Market at 4th   342          Customer  \n",
       "3                 Steuart at Market   603          Customer  \n",
       "4                 Steuart at Market   598          Customer  "
      ]
     },
     "execution_count": 4,
     "metadata": {},
     "output_type": "execute_result"
    }
   ],
   "source": [
    "# 运行我们上面写的程序来处理数据\n",
    "station_data = ['201408_station_data.csv']\n",
    "trip_in = ['201408_trip_data.csv']\n",
    "trip_out = '201408_trip_summary.csv'\n",
    "summarise_data(trip_in, station_data, trip_out)\n",
    "\n",
    "# 载入数据文件并打印开头几行\n",
    "sample_data=pd.read_csv(trip_out)\n",
    "sample_data.head()"
   ]
  },
  {
   "cell_type": "code",
   "execution_count": 5,
   "metadata": {
    "collapsed": false
   },
   "outputs": [
    {
     "data": {
      "text/plain": [
       "171792"
      ]
     },
     "execution_count": 5,
     "metadata": {},
     "output_type": "execute_result"
    }
   ],
   "source": [
    "len(sample_data)"
   ]
  },
  {
   "cell_type": "code",
   "execution_count": 10,
   "metadata": {
    "collapsed": false
   },
   "outputs": [],
   "source": [
    "#sample_data['start_date']"
   ]
  },
  {
   "cell_type": "code",
   "execution_count": 7,
   "metadata": {
    "collapsed": true
   },
   "outputs": [],
   "source": [
    "import datetime"
   ]
  },
  {
   "cell_type": "code",
   "execution_count": 21,
   "metadata": {
    "collapsed": false
   },
   "outputs": [],
   "source": [
    "Bike_max=sample_data.groupby('start_date')['Bike'].count()"
   ]
  },
  {
   "cell_type": "code",
   "execution_count": 31,
   "metadata": {
    "collapsed": false
   },
   "outputs": [
    {
     "data": {
      "text/plain": [
       "start_date\n",
       "03-29-2014    117\n",
       "Name: Bike, dtype: int64"
      ]
     },
     "execution_count": 31,
     "metadata": {},
     "output_type": "execute_result"
    }
   ],
   "source": [
    "Bike_max[Bike_max==117]"
   ]
  },
  {
   "cell_type": "code",
   "execution_count": 32,
   "metadata": {
    "collapsed": false
   },
   "outputs": [
    {
     "data": {
      "text/plain": [
       "171792"
      ]
     },
     "execution_count": 32,
     "metadata": {},
     "output_type": "execute_result"
    }
   ],
   "source": [
    "Bike_max.sum()"
   ]
  },
  {
   "cell_type": "code",
   "execution_count": 25,
   "metadata": {
    "collapsed": false
   },
   "outputs": [],
   "source": [
    "sample_data1=sample_data.loc[sample_data['start_city']=='San Francisco']"
   ]
  },
  {
   "cell_type": "code",
   "execution_count": 28,
   "metadata": {
    "collapsed": true
   },
   "outputs": [],
   "source": [
    "sample_data2=sample_data1.loc[sample_data['end_city']=='San Francisco']"
   ]
  },
  {
   "cell_type": "code",
   "execution_count": 29,
   "metadata": {
    "collapsed": false
   },
   "outputs": [
    {
     "data": {
      "text/plain": [
       "start_station\n",
       "2nd at Folsom                                     4165\n",
       "2nd at South Park                                 4569\n",
       "2nd at Townsend                                   6824\n",
       "5th at Howard                                     3182\n",
       "Beale at Market                                   4293\n",
       "Broadway St at Battery St                         2433\n",
       "Civic Center BART (7th at Market)                 3268\n",
       "Clay at Battery                                   2535\n",
       "Commercial at Montgomery                          3039\n",
       "Davis at Jackson                                  2563\n",
       "Embarcadero at Bryant                             3831\n",
       "Embarcadero at Folsom                             3527\n",
       "Embarcadero at Sansome                            7010\n",
       "Embarcadero at Vallejo                            2770\n",
       "Golden Gate at Polk                               1939\n",
       "Grant Avenue at Columbus Avenue                   3965\n",
       "Harry Bridges Plaza (Ferry Building)              8336\n",
       "Howard at 2nd                                     3240\n",
       "Market at 10th                                    4876\n",
       "Market at 4th                                     5241\n",
       "Market at Sansome                                 6819\n",
       "Mechanics Plaza (Market at Battery)               3225\n",
       "Post at Kearny                                    2255\n",
       "Powell Street BART                                4847\n",
       "Powell at Post (Union Square)                     3247\n",
       "San Francisco Caltrain (Townsend at 4th)         12950\n",
       "San Francisco Caltrain 2 (330 Townsend)           7008\n",
       "San Francisco City Hall                           1226\n",
       "South Van Ness at Market                          3482\n",
       "Spear at Folsom                                   2952\n",
       "Steuart at Market                                 6238\n",
       "Temporary Transbay Terminal (Howard at Beale)     6540\n",
       "Townsend at 7th                                   5479\n",
       "Washington at Kearny                              1632\n",
       "Yerba Buena Center of the Arts (3rd @ Howard)     3241\n",
       "Name: start_station, dtype: int64"
      ]
     },
     "execution_count": 29,
     "metadata": {},
     "output_type": "execute_result"
    }
   ],
   "source": [
    "sample_data2.groupby('start_station')['start_station'].count()"
   ]
  },
  {
   "cell_type": "code",
   "execution_count": 30,
   "metadata": {
    "collapsed": false
   },
   "outputs": [
    {
     "data": {
      "text/plain": [
       "start_station\n",
       "2nd at Folsom                                     4165\n",
       "2nd at South Park                                 4569\n",
       "2nd at Townsend                                   6824\n",
       "5th at Howard                                     3183\n",
       "Beale at Market                                   4293\n",
       "Broadway St at Battery St                         2433\n",
       "Civic Center BART (7th at Market)                 3268\n",
       "Clay at Battery                                   2535\n",
       "Commercial at Montgomery                          3040\n",
       "Davis at Jackson                                  2563\n",
       "Embarcadero at Bryant                             3831\n",
       "Embarcadero at Folsom                             3527\n",
       "Embarcadero at Sansome                            7010\n",
       "Embarcadero at Vallejo                            2770\n",
       "Golden Gate at Polk                               1939\n",
       "Grant Avenue at Columbus Avenue                   3965\n",
       "Harry Bridges Plaza (Ferry Building)              8336\n",
       "Howard at 2nd                                     3240\n",
       "Market at 10th                                    4876\n",
       "Market at 4th                                     5241\n",
       "Market at Sansome                                 6819\n",
       "Mechanics Plaza (Market at Battery)               3225\n",
       "Post at Kearny                                    2255\n",
       "Powell Street BART                                4847\n",
       "Powell at Post (Union Square)                     3247\n",
       "San Francisco Caltrain (Townsend at 4th)         12950\n",
       "San Francisco Caltrain 2 (330 Townsend)           7008\n",
       "San Francisco City Hall                           1226\n",
       "South Van Ness at Market                          3483\n",
       "Spear at Folsom                                   2952\n",
       "Steuart at Market                                 6238\n",
       "Temporary Transbay Terminal (Howard at Beale)     6540\n",
       "Townsend at 7th                                   5479\n",
       "Washington at Kearny                              1632\n",
       "Yerba Buena Center of the Arts (3rd @ Howard)     3241\n",
       "Name: start_station, dtype: int64"
      ]
     },
     "execution_count": 30,
     "metadata": {},
     "output_type": "execute_result"
    }
   ],
   "source": [
    "sample_data1.groupby('start_station')['start_station'].count()"
   ]
  },
  {
   "cell_type": "code",
   "execution_count": 31,
   "metadata": {
    "collapsed": true
   },
   "outputs": [],
   "source": [
    "sample_data3=sample_data.groupby(['start_city','start_station'])['start_station'].count()"
   ]
  },
  {
   "cell_type": "code",
   "execution_count": 32,
   "metadata": {
    "collapsed": false
   },
   "outputs": [
    {
     "data": {
      "text/plain": [
       "start_city     start_station                                \n",
       "Mountain View  Castro Street and El Camino Real                   673\n",
       "               Evelyn Park and Ride                               471\n",
       "               Mountain View Caltrain Station                    1810\n",
       "               Mountain View City Hall                            771\n",
       "               Rengstorff Avenue / California Street              380\n",
       "               San Antonio Caltrain Station                       694\n",
       "               San Antonio Shopping Center                        641\n",
       "Palo Alto      California Ave Caltrain Station                    329\n",
       "               Cowper at University                               443\n",
       "               Palo Alto Caltrain Station                         564\n",
       "               Park at Olive                                      185\n",
       "               University and Emerson                             473\n",
       "Redwood City   Broadway at Main                                    22\n",
       "               Franklin at Maple                                   44\n",
       "               Mezes Park                                         126\n",
       "               Redwood City Caltrain Station                      281\n",
       "               Redwood City Medical Center                         38\n",
       "               Redwood City Public Library                         51\n",
       "               San Mateo County Center                             59\n",
       "San Francisco  2nd at Folsom                                     4165\n",
       "               2nd at South Park                                 4569\n",
       "               2nd at Townsend                                   6824\n",
       "               5th at Howard                                     3183\n",
       "               Beale at Market                                   4293\n",
       "               Broadway St at Battery St                         2433\n",
       "               Civic Center BART (7th at Market)                 3268\n",
       "               Clay at Battery                                   2535\n",
       "               Commercial at Montgomery                          3040\n",
       "               Davis at Jackson                                  2563\n",
       "               Embarcadero at Bryant                             3831\n",
       "                                                                ...  \n",
       "               Mechanics Plaza (Market at Battery)               3225\n",
       "               Post at Kearny                                    2255\n",
       "               Powell Street BART                                4847\n",
       "               Powell at Post (Union Square)                     3247\n",
       "               San Francisco Caltrain (Townsend at 4th)         12950\n",
       "               San Francisco Caltrain 2 (330 Townsend)           7008\n",
       "               San Francisco City Hall                           1226\n",
       "               South Van Ness at Market                          3483\n",
       "               Spear at Folsom                                   2952\n",
       "               Steuart at Market                                 6238\n",
       "               Temporary Transbay Terminal (Howard at Beale)     6540\n",
       "               Townsend at 7th                                   5479\n",
       "               Washington at Kearny                              1632\n",
       "               Yerba Buena Center of the Arts (3rd @ Howard)     3241\n",
       "San Jose       Adobe on Almaden                                   360\n",
       "               Arena Green / SAP Center                           510\n",
       "               Japantown                                          529\n",
       "               MLK Library                                        407\n",
       "               Paseo de San Antonio                               632\n",
       "               Ryland Park                                        627\n",
       "               SJSU - San Salvador at 9th                         490\n",
       "               SJSU 4th at San Carlos                             306\n",
       "               San Jose City Hall                                 821\n",
       "               San Jose Civic Center                              474\n",
       "               San Jose Diridon Caltrain Station                 2618\n",
       "               San Pedro Square                                   784\n",
       "               San Salvador at 1st                                600\n",
       "               Santa Clara County Civic Center                    306\n",
       "               Santa Clara at Almaden                            1048\n",
       "               St James Park                                      475\n",
       "Name: start_station, dtype: int64"
      ]
     },
     "execution_count": 32,
     "metadata": {},
     "output_type": "execute_result"
    }
   ],
   "source": [
    "sample_data3"
   ]
  },
  {
   "cell_type": "code",
   "execution_count": 33,
   "metadata": {
    "collapsed": true
   },
   "outputs": [],
   "source": [
    "sample_data4=sample_data.groupby(['end_city','end_station'])['end_station'].count()"
   ]
  },
  {
   "cell_type": "code",
   "execution_count": 37,
   "metadata": {
    "collapsed": false
   },
   "outputs": [
    {
     "data": {
      "text/plain": [
       "end_station\n",
       "2nd at Folsom                                     2414\n",
       "2nd at South Park                                 4159\n",
       "2nd at Townsend                                   7411\n",
       "5th at Howard                                     3613\n",
       "Beale at Market                                   3263\n",
       "Broadway St at Battery St                         1994\n",
       "Civic Center BART (7th at Market)                 3438\n",
       "Clay at Battery                                   2604\n",
       "Commercial at Montgomery                          3028\n",
       "Davis at Jackson                                  2825\n",
       "Embarcadero at Bryant                             3369\n",
       "Embarcadero at Folsom                             3438\n",
       "Embarcadero at Sansome                            8141\n",
       "Embarcadero at Vallejo                            3162\n",
       "Golden Gate at Polk                               1602\n",
       "Grant Avenue at Columbus Avenue                   2241\n",
       "Harry Bridges Plaza (Ferry Building)              7908\n",
       "Howard at 2nd                                     3523\n",
       "Market at 10th                                    4256\n",
       "Market at 4th                                     5121\n",
       "Market at Sansome                                 7879\n",
       "Mechanics Plaza (Market at Battery)               3052\n",
       "Post at Kearny                                    2156\n",
       "Powell Street BART                                5448\n",
       "Powell at Post (Union Square)                     2205\n",
       "San Francisco Caltrain (Townsend at 4th)         16732\n",
       "San Francisco Caltrain 2 (330 Townsend)           7482\n",
       "San Francisco City Hall                            708\n",
       "South Van Ness at Market                          3153\n",
       "Spear at Folsom                                   2967\n",
       "Steuart at Market                                 6328\n",
       "Temporary Transbay Terminal (Howard at Beale)     5758\n",
       "Townsend at 7th                                   6142\n",
       "Washington at Kearny                              1980\n",
       "Yerba Buena Center of the Arts (3rd @ Howard)     3258\n",
       "Name: end_station, dtype: int64"
      ]
     },
     "execution_count": 37,
     "metadata": {},
     "output_type": "execute_result"
    }
   ],
   "source": [
    "sample_data4.ix['San Francisco']"
   ]
  },
  {
   "cell_type": "code",
   "execution_count": null,
   "metadata": {
    "collapsed": true
   },
   "outputs": [],
   "source": []
  }
 ],
 "metadata": {
  "kernelspec": {
   "display_name": "Python [py2]",
   "language": "python",
   "name": "Python [py2]"
  },
  "language_info": {
   "codemirror_mode": {
    "name": "ipython",
    "version": 2
   },
   "file_extension": ".py",
   "mimetype": "text/x-python",
   "name": "python",
   "nbconvert_exporter": "python",
   "pygments_lexer": "ipython2",
   "version": "2.7.12"
  }
 },
 "nbformat": 4,
 "nbformat_minor": 0
}
